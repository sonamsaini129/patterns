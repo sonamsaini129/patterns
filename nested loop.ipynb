{
 "cells": [
  {
   "cell_type": "code",
   "execution_count": 16,
   "id": "c2872b26-729c-49ec-8a2f-46ac2a46e40b",
   "metadata": {},
   "outputs": [
    {
     "name": "stdout",
     "output_type": "stream",
     "text": [
      "student 4\n",
      "subject => 5\n",
      "student 3\n",
      "subject => 5\n",
      "subject => 4\n",
      "student 2\n",
      "subject => 5\n",
      "subject => 4\n",
      "subject => 3\n"
     ]
    }
   ],
   "source": [
    "for i in range(4,1,-1):\n",
    "     print(\"student\",i)\n",
    "     for subject in range(5,i,-1):\n",
    "        print(\"subject =>\",subject)"
   ]
  },
  {
   "cell_type": "raw",
   "id": "abbcda19-8534-4ac3-876d-0a4bc8eb9a1a",
   "metadata": {},
   "source": [
    "\n"
   ]
  },
  {
   "cell_type": "code",
   "execution_count": 20,
   "id": "2fdb53d5-6e06-47b0-81ef-0f57f659cf71",
   "metadata": {},
   "outputs": [
    {
     "name": "stdout",
     "output_type": "stream",
     "text": [
      "70 63 56 49 42 35 28 21 14 7 =====tea time=====\n",
      "60 54 48 42 36 30 24 18 12 6 =====tea time=====\n",
      "50 45 40 35 30 25 20 15 10 5 =====tea time=====\n",
      "40 36 32 28 24 20 16 12 8 4 =====tea time=====\n",
      "30 27 24 21 18 15 12 9 6 3 =====tea time=====\n",
      "20 18 16 14 12 10 8 6 4 2 =====tea time=====\n"
     ]
    }
   ],
   "source": [
    "for i in range(7,1,-1):\n",
    "    for table in range(10,0,-1):\n",
    "        print(i*table,end=\" \")\n",
    "    print(\"=====tea time=====\")    "
   ]
  },
  {
   "cell_type": "code",
   "execution_count": 24,
   "id": "678e0dc4-44a2-4b9c-b13c-0ab1d6ebd55d",
   "metadata": {},
   "outputs": [
    {
     "name": "stdout",
     "output_type": "stream",
     "text": [
      "* * * \n",
      "* * * \n",
      "* * * \n",
      "* * * \n"
     ]
    }
   ],
   "source": [
    "for i in range(1,5):\n",
    "    for j in range(1,4):\n",
    "        print(\"*\",end=\" \")\n",
    "    print()"
   ]
  },
  {
   "cell_type": "code",
   "execution_count": 27,
   "id": "8caa6f99-c795-4d66-94bb-ab8747a45b9d",
   "metadata": {},
   "outputs": [
    {
     "name": "stdout",
     "output_type": "stream",
     "text": [
      "1 1 1 \n",
      "2 2 2 \n",
      "3 3 3 \n"
     ]
    }
   ],
   "source": [
    "for i in range(1,4):\n",
    "    for j in range(1,4):\n",
    "        print(i,end=\" \")\n",
    "    print()"
   ]
  },
  {
   "cell_type": "code",
   "execution_count": 28,
   "id": "b0815196-b738-4dca-99fa-71b48a30a56c",
   "metadata": {},
   "outputs": [
    {
     "name": "stdout",
     "output_type": "stream",
     "text": [
      "2 2 2 2 \n",
      "3 3 3 3 \n",
      "4 4 4 4 \n"
     ]
    }
   ],
   "source": [
    "for i in range(2,5):\n",
    "    for j in range(1,5):\n",
    "        print(i,end=\" \")\n",
    "    print()"
   ]
  },
  {
   "cell_type": "code",
   "execution_count": 29,
   "id": "350be8ec-5402-4f56-847f-9fdbb08c20fa",
   "metadata": {},
   "outputs": [
    {
     "name": "stdout",
     "output_type": "stream",
     "text": [
      "1 2 3 4 \n",
      "1 2 3 4 \n",
      "1 2 3 4 \n"
     ]
    }
   ],
   "source": [
    "for i in range(1,4):\n",
    "    for j in range(1,5):\n",
    "        print(j,end=\" \")\n",
    "    print()"
   ]
  },
  {
   "cell_type": "code",
   "execution_count": 30,
   "id": "ce8a0887-e6b5-407f-9e33-4be88c5541b0",
   "metadata": {},
   "outputs": [
    {
     "name": "stdout",
     "output_type": "stream",
     "text": [
      "4 3 2 1 \n",
      "4 3 2 1 \n",
      "4 3 2 1 \n"
     ]
    }
   ],
   "source": [
    "for i in range(1,4):\n",
    "    for j in range(4,0,-1):\n",
    "        print(j,end=\" \")\n",
    "    print()"
   ]
  },
  {
   "cell_type": "code",
   "execution_count": 33,
   "id": "b3ece43d-9c89-4233-b254-b4c993c436df",
   "metadata": {},
   "outputs": [
    {
     "name": "stdout",
     "output_type": "stream",
     "text": [
      "4 4 4 4 \n",
      "3 3 3 3 \n"
     ]
    }
   ],
   "source": [
    "for i in range(4,2,-1):\n",
    "    for j in range(1,5):\n",
    "        print(i,end=\" \")\n",
    "    print()"
   ]
  },
  {
   "cell_type": "code",
   "execution_count": 37,
   "id": "5fdcefff-1378-449c-be16-ee2fb04b59cd",
   "metadata": {},
   "outputs": [
    {
     "name": "stdout",
     "output_type": "stream",
     "text": [
      "1 \n",
      "2 2 \n",
      "3 3 3 \n",
      "4 4 4 4 \n"
     ]
    }
   ],
   "source": [
    "for i in range(1,5):\n",
    "    for j in range(1,i+1):\n",
    "        print(i,end=\" \")\n",
    "    print(\"\")"
   ]
  },
  {
   "cell_type": "code",
   "execution_count": 39,
   "id": "158f91f0-3033-45fb-8be0-0a335cf8627f",
   "metadata": {},
   "outputs": [
    {
     "name": "stdout",
     "output_type": "stream",
     "text": [
      "10 \n",
      "11 12 \n",
      "13 14 15 \n"
     ]
    }
   ],
   "source": [
    "count=10\n",
    "for i in range(1,4):\n",
    "    for j in range(1,i+1):\n",
    "        print(count,end=\" \")\n",
    "        count=count+1\n",
    "    print(\"\")"
   ]
  },
  {
   "cell_type": "code",
   "execution_count": 41,
   "id": "97d8ef50-fc28-42e0-8d0d-f92d6ec414ad",
   "metadata": {},
   "outputs": [
    {
     "name": "stdout",
     "output_type": "stream",
     "text": [
      "15 \n",
      "14 13 \n",
      "12 11 10 \n"
     ]
    }
   ],
   "source": [
    "count=15\n",
    "for i in range(1,4):\n",
    "    for j in range(1,i+1):\n",
    "        print(count,end=\" \")\n",
    "        count=count-1\n",
    "    print(\"\")"
   ]
  },
  {
   "cell_type": "code",
   "execution_count": 1,
   "id": "cdd0e27c-7d0c-4371-8e07-813a81ba42f1",
   "metadata": {},
   "outputs": [
    {
     "name": "stdout",
     "output_type": "stream",
     "text": [
      "A \n",
      "A B \n",
      "A B C \n"
     ]
    }
   ],
   "source": [
    "#count=65\n",
    "for i in range(1,4):\n",
    "    count=65\n",
    "    \n",
    "    for j in range(1,i+1):\n",
    "        print(chr(count),end=\" \")\n",
    "        count=count+1\n",
    "    print(\"\")"
   ]
  },
  {
   "cell_type": "code",
   "execution_count": 14,
   "id": "9152a8cf-fcd2-40ba-a7be-213f91ce47d7",
   "metadata": {},
   "outputs": [
    {
     "name": "stdout",
     "output_type": "stream",
     "text": [
      "0 1 2 3 4 5 \n",
      "0 1 2 3 4 \n",
      "0 1 2 3 \n",
      "0 1 2 \n",
      "0 1 \n"
     ]
    }
   ],
   "source": [
    "for i in range(0,5):\n",
    "    count=0\n",
    "    for j in range(i,6):\n",
    "        print(count,end=\" \")\n",
    "        count=count+1  \n",
    "    print()"
   ]
  },
  {
   "cell_type": "code",
   "execution_count": 1,
   "id": "0819a80a-ec09-4d0f-ac0f-2c765d8d4099",
   "metadata": {},
   "outputs": [
    {
     "name": "stdout",
     "output_type": "stream",
     "text": [
      "- - - \n",
      "- - \n",
      "- \n"
     ]
    }
   ],
   "source": [
    "for i in range(1,4):\n",
    " for i in range(i,4):\n",
    "     print(\"-\",end=\" \")\n",
    " print()"
   ]
  },
  {
   "cell_type": "code",
   "execution_count": 15,
   "id": "68dced40-690b-43c8-a770-88dcb3142edc",
   "metadata": {},
   "outputs": [
    {
     "name": "stdout",
     "output_type": "stream",
     "text": [
      "- * * * \n",
      "- - * * \n",
      "- - - * \n",
      "- - - - \n"
     ]
    }
   ],
   "source": [
    "for i in range(1,5):\n",
    "    for j in range(0,i):\n",
    "        print(\"-\",end=\" \")\n",
    "    for k in range(i,4):\n",
    "         print(\"*\",end=\" \")\n",
    "    print()\n",
    "    "
   ]
  },
  {
   "cell_type": "code",
   "execution_count": 17,
   "id": "3495ffd8-39ec-48b8-a0ba-5dc40c9bb34f",
   "metadata": {},
   "outputs": [
    {
     "name": "stdout",
     "output_type": "stream",
     "text": [
      "* \n",
      "* * \n",
      "* * * \n",
      "* * * * \n",
      "* * * * * \n"
     ]
    }
   ],
   "source": [
    "for i in range(1,6):\n",
    "    for i in range(1,i+1):\n",
    "        print(\"*\",end=\" \")\n",
    "    print()"
   ]
  },
  {
   "cell_type": "code",
   "execution_count": 20,
   "id": "7d57d182-b758-4a77-a609-2c97ec0c1628",
   "metadata": {},
   "outputs": [
    {
     "name": "stdout",
     "output_type": "stream",
     "text": [
      "1 \n",
      "1 2 \n",
      "1 2 3 \n",
      "1 2 3 4 \n"
     ]
    }
   ],
   "source": [
    "for i in range(1,5):\n",
    "    for i in range(1,i+1):\n",
    "        print(i,end=\" \")\n",
    "    print()"
   ]
  },
  {
   "cell_type": "code",
   "execution_count": 22,
   "id": "ab7c7f63-9bdb-43fe-a4d6-28f31c15c97f",
   "metadata": {},
   "outputs": [
    {
     "name": "stdout",
     "output_type": "stream",
     "text": [
      "1 \n",
      "2 3 \n",
      "4 5 6 \n",
      "7 8 9 10 \n"
     ]
    }
   ],
   "source": [
    "count=1\n",
    "for i in range(1,5):\n",
    "    for i in range(1,i+1):\n",
    "        print(count,end=\" \")\n",
    "        count=count+1\n",
    "    print()"
   ]
  },
  {
   "cell_type": "code",
   "execution_count": 27,
   "id": "e0834f93-4de2-4184-a3cd-1d830ceca9ba",
   "metadata": {},
   "outputs": [
    {
     "name": "stdout",
     "output_type": "stream",
     "text": [
      "A B C D \n",
      "A B C \n",
      "A B \n",
      "A \n"
     ]
    }
   ],
   "source": [
    "\n",
    "for i in range(1,5):\n",
    "    a=65\n",
    "    for i in range(5,i,-1):\n",
    "        print(chr(a),end=\" \")\n",
    "        a=a+1\n",
    "    print()"
   ]
  },
  {
   "cell_type": "code",
   "execution_count": 29,
   "id": "3145384d-a8b3-4ee1-86c4-fdaa190f7814",
   "metadata": {},
   "outputs": [
    {
     "name": "stdout",
     "output_type": "stream",
     "text": [
      "* * * * * \n",
      "* * * * \n",
      "* * * \n",
      "* * \n",
      "* \n"
     ]
    }
   ],
   "source": [
    "for i in range(1,6):\n",
    "    \n",
    "    for i in range(6,i,-1):\n",
    "        print(\"*\",end=\" \")\n",
    "        \n",
    "    print()"
   ]
  },
  {
   "cell_type": "code",
   "execution_count": 35,
   "id": "37fb62cb-4e8c-4f8f-9303-7bfaa433f657",
   "metadata": {},
   "outputs": [
    {
     "name": "stdout",
     "output_type": "stream",
     "text": [
      "1 \n",
      "2 2 \n",
      "3 3 3 \n",
      "4 4 4 4 \n"
     ]
    }
   ],
   "source": [
    "\n",
    "for i in range(1,5):\n",
    "    for j in range(1,i+1):\n",
    "        print(i,end=\" \")\n",
    "    print(\"\")"
   ]
  },
  {
   "cell_type": "code",
   "execution_count": 39,
   "id": "e1cf4436-132e-466f-a181-84b6879826df",
   "metadata": {},
   "outputs": [
    {
     "name": "stdout",
     "output_type": "stream",
     "text": [
      "4 3 2 1 \n",
      "4 3 2 \n",
      "4 3 \n",
      "4 \n"
     ]
    }
   ],
   "source": [
    "for i in range(1,5):\n",
    "    \n",
    "    for j in range(4,i-1,-1):\n",
    "        print(j,end=\" \")\n",
    "        \n",
    "    print(\"\")"
   ]
  },
  {
   "cell_type": "code",
   "execution_count": 40,
   "id": "ddda63c3-e60e-40e9-a8f9-c3804cd04be5",
   "metadata": {},
   "outputs": [
    {
     "name": "stdout",
     "output_type": "stream",
     "text": [
      "A \n",
      "A B \n",
      "A B C \n",
      "A B C D \n"
     ]
    }
   ],
   "source": [
    "for i in range(1,5):\n",
    "    a=65\n",
    "    for j in range(1,i+1):\n",
    "        print(chr(a),end=\" \")\n",
    "        a=a+1\n",
    "    print()"
   ]
  },
  {
   "cell_type": "code",
   "execution_count": 52,
   "id": "4a3cca58-f3c9-4076-977d-f76f9b932c5c",
   "metadata": {},
   "outputs": [
    {
     "name": "stdout",
     "output_type": "stream",
     "text": [
      "1 2 3 4 5 \n",
      "1 2 3 4 \n",
      "1 2 3 \n",
      "1 2 \n",
      "1 \n"
     ]
    }
   ],
   "source": [
    "for i in range(5,0,-1):\n",
    "    \n",
    "    for j in range(1,i+1):\n",
    "        print(j,end=\" \")\n",
    "        \n",
    "    print(\"\")"
   ]
  },
  {
   "cell_type": "code",
   "execution_count": 55,
   "id": "dbfb80af-e162-4830-a4d5-35decb11c7ae",
   "metadata": {},
   "outputs": [
    {
     "name": "stdout",
     "output_type": "stream",
     "text": [
      "F E D C B A \n",
      "F E D C B \n",
      "F E D C \n",
      "F E D \n",
      "F E \n",
      "F \n"
     ]
    }
   ],
   "source": [
    "for i in range(6,0,-1):\n",
    "    x=70 \n",
    "    for j in range(1,i+1):\n",
    "        print(chr(x),end=\" \")\n",
    "        x=x-1\n",
    "        \n",
    "    print(\"\")"
   ]
  },
  {
   "cell_type": "code",
   "execution_count": 60,
   "id": "da4c1ba0-e61c-4166-a894-2611f59e0d58",
   "metadata": {},
   "outputs": [
    {
     "name": "stdout",
     "output_type": "stream",
     "text": [
      "* * * * * \n",
      "  * * * * \n",
      "    * * * \n",
      "      * * \n",
      "        * \n"
     ]
    }
   ],
   "source": [
    "for i in range(1,6):\n",
    "    for k in range(1,i):\n",
    "        print(\" \",end=\" \")\n",
    "    for j in range(6,i,-1):\n",
    "        print(\"*\",end=\" \")\n",
    "    \n",
    "        \n",
    "    print()"
   ]
  },
  {
   "cell_type": "code",
   "execution_count": 64,
   "id": "1b25b7fc-b1d9-40af-a6a3-62e0e9cc2450",
   "metadata": {},
   "outputs": [
    {
     "name": "stdout",
     "output_type": "stream",
     "text": [
      "* * * * \n",
      "* * * \n",
      "* * \n",
      "* \n"
     ]
    }
   ],
   "source": [
    "for i in range(1,5):\n",
    "    for j in range(5,i,-1):\n",
    "        print(\"*\",end=\" \")\n",
    "    print()"
   ]
  },
  {
   "cell_type": "code",
   "execution_count": 66,
   "id": "7b95aabe-cc4d-4bd8-a09e-6c2067c3ff8d",
   "metadata": {},
   "outputs": [
    {
     "name": "stdout",
     "output_type": "stream",
     "text": [
      "10 \n",
      "11 12 \n",
      "13 14 15 \n"
     ]
    }
   ],
   "source": [
    "count=10\n",
    "for i in range(1,4):\n",
    "    for j in range(1,i+1):\n",
    "        print(count,end=\" \")\n",
    "        count+=1\n",
    "    print()"
   ]
  },
  {
   "cell_type": "code",
   "execution_count": 68,
   "id": "2491841f-60b4-41c0-b114-8f49a03d445b",
   "metadata": {},
   "outputs": [
    {
     "name": "stdout",
     "output_type": "stream",
     "text": [
      "D \n",
      "D C \n",
      "D C B \n",
      "D C B A \n"
     ]
    }
   ],
   "source": [
    "for i in range(1,5):\n",
    "    char=68\n",
    "    for j in range(1,i+1):\n",
    "        print(chr(char),end=\" \")\n",
    "        char=char-1\n",
    "        \n",
    "    print()"
   ]
  },
  {
   "cell_type": "code",
   "execution_count": 69,
   "id": "871a395b-748c-4eae-86cb-46e55332a6b8",
   "metadata": {},
   "outputs": [
    {
     "name": "stdout",
     "output_type": "stream",
     "text": [
      "10 \n",
      "10 11 \n",
      "10 11 12 \n",
      "10 11 12 13 \n"
     ]
    }
   ],
   "source": [
    "for i in range(1,5):\n",
    "    char=10\n",
    "    for j in range(1,i+1):\n",
    "        print(char,end=\" \")\n",
    "        char=char+1\n",
    "        \n",
    "    print()"
   ]
  },
  {
   "cell_type": "code",
   "execution_count": 70,
   "id": "c4db5843-5112-4744-b026-3c6e1bf74fd4",
   "metadata": {},
   "outputs": [
    {
     "name": "stdout",
     "output_type": "stream",
     "text": [
      "A \n",
      "A B \n",
      "A B C \n",
      "A B C D \n"
     ]
    }
   ],
   "source": [
    "for i in range(1,5):\n",
    "    char=65\n",
    "    for j in range(1,i+1):\n",
    "        print(chr(char),end=\" \")\n",
    "        char=char+1\n",
    "        \n",
    "    print()"
   ]
  },
  {
   "cell_type": "code",
   "execution_count": 73,
   "id": "3c4893b4-4ad7-47f9-a77f-e5325c8d239c",
   "metadata": {},
   "outputs": [
    {
     "name": "stdout",
     "output_type": "stream",
     "text": [
      "D C B A \n",
      "D C B \n",
      "D C \n",
      "D \n"
     ]
    }
   ],
   "source": [
    "for i in range(1,5):\n",
    "    char=68\n",
    "    for j in range(5,i,-1):\n",
    "        print(chr(char),end=\" \")\n",
    "        char=char-1\n",
    "        \n",
    "    print()"
   ]
  },
  {
   "cell_type": "code",
   "execution_count": 74,
   "id": "936a22ae-cd46-4ea8-85f8-2437e86fedd8",
   "metadata": {},
   "outputs": [
    {
     "name": "stdout",
     "output_type": "stream",
     "text": [
      "1 \n",
      "1 2 \n",
      "1 2 3 \n",
      "1 2 3 4 \n",
      "1 2 3 4 5 \n"
     ]
    }
   ],
   "source": [
    "for i in range(1,6):\n",
    "    char=1\n",
    "    for j in range(1,i+1):\n",
    "        \n",
    "        print(char,end=\" \")\n",
    "        char=char+1\n",
    "        \n",
    "    print()"
   ]
  },
  {
   "cell_type": "code",
   "execution_count": 78,
   "id": "a6353c68-7b5e-4738-bbba-096a40f090b6",
   "metadata": {},
   "outputs": [
    {
     "name": "stdout",
     "output_type": "stream",
     "text": [
      "F \n",
      "H J \n",
      "L N P \n",
      "R T V X \n"
     ]
    }
   ],
   "source": [
    "char=70\n",
    "for i in range(1,5):\n",
    "    \n",
    "    for j in range(1,i+1):\n",
    "        \n",
    "        print(chr(char),end=\" \")\n",
    "        char=char+2\n",
    "        \n",
    "    print()"
   ]
  },
  {
   "cell_type": "code",
   "execution_count": 86,
   "id": "20d61639-254e-4094-8ead-154f816a3338",
   "metadata": {},
   "outputs": [
    {
     "name": "stdout",
     "output_type": "stream",
     "text": [
      "3\n",
      "armstrong number\n"
     ]
    }
   ],
   "source": [
    "num=153\n",
    "temp=num\n",
    "sum=0\n",
    "rem=0\n",
    "count=0\n",
    "n=str(num)\n",
    "for i in n:\n",
    "  count=count+1\n",
    "    \n",
    "print(count)\n",
    "while(num>0):\n",
    "    rem=num%10\n",
    "    sum=sum+rem**count\n",
    "    num=num//10\n",
    "if(temp==sum):\n",
    "    print(\"armstrong number\")\n",
    "else:\n",
    "    print(\"not armstrong number\")"
   ]
  },
  {
   "cell_type": "code",
   "execution_count": 15,
   "id": "ac755719-4311-4757-953b-b4bfde4780fc",
   "metadata": {},
   "outputs": [
    {
     "name": "stdout",
     "output_type": "stream",
     "text": [
      "----* \n",
      "---* * \n",
      "--* * * \n",
      "-* * * * \n"
     ]
    }
   ],
   "source": [
    "for i in range(1,5):\n",
    "    for j in range(4,i-1,-1):\n",
    "        print(\"-\",end=\"\")\n",
    "    for k in range(1,i+1):\n",
    "         print(\"*\",end=\" \")\n",
    "    print()"
   ]
  },
  {
   "cell_type": "code",
   "execution_count": 34,
   "id": "b8436abf-d257-4541-bab7-bc4377b4aac9",
   "metadata": {},
   "outputs": [
    {
     "name": "stdout",
     "output_type": "stream",
     "text": [
      "* * * * * * \n",
      "-* * * * * \n",
      "--* * * * \n",
      "---* * * \n",
      "----* * \n",
      "-----* \n"
     ]
    }
   ],
   "source": [
    "n=7\n",
    "for i in range(1,n):\n",
    "    for j in range(1,i):\n",
    "        print(\"-\",end=\"\")\n",
    "    for k in range(i,n):\n",
    "         print(\"*\",end=\" \")\n",
    "    print()"
   ]
  },
  {
   "cell_type": "code",
   "execution_count": 36,
   "id": "4ee1e1e4-f022-4567-b119-88aebb110701",
   "metadata": {},
   "outputs": [
    {
     "name": "stdout",
     "output_type": "stream",
     "text": [
      "------* \n",
      "-----* * \n",
      "----* * * \n",
      "---* * * * \n",
      "--* * * * * \n",
      "-* * * * * * \n"
     ]
    }
   ],
   "source": [
    "n=7\n",
    "for i in range(1,n):\n",
    "    for j in range(i,n):\n",
    "        print(\"-\",end=\"\")\n",
    "    for k in range(1,i+1):\n",
    "         print(\"*\",end=\" \")\n",
    "    print()"
   ]
  },
  {
   "cell_type": "code",
   "execution_count": 38,
   "id": "8e08cf27-4871-4f27-9da5-26ba067b9cd6",
   "metadata": {},
   "outputs": [
    {
     "name": "stdout",
     "output_type": "stream",
     "text": [
      "* * * * * \n",
      "  * * * * \n",
      "    * * * \n",
      "      * * \n",
      "        * \n"
     ]
    }
   ],
   "source": [
    "n=6\n",
    "for i in range(1,n):\n",
    "    for j in range(1,i):\n",
    "        print(\" \",end=\" \")\n",
    "    for k in range(i,n):\n",
    "        print(\"*\",end=\" \")\n",
    "    print()\n",
    "        \n",
    "    "
   ]
  },
  {
   "cell_type": "code",
   "execution_count": null,
   "id": "002bd251-6aa7-463b-bea3-9bce80e61f0f",
   "metadata": {},
   "outputs": [],
   "source": []
  }
 ],
 "metadata": {
  "kernelspec": {
   "display_name": "Python 3 (ipykernel)",
   "language": "python",
   "name": "python3"
  },
  "language_info": {
   "codemirror_mode": {
    "name": "ipython",
    "version": 3
   },
   "file_extension": ".py",
   "mimetype": "text/x-python",
   "name": "python",
   "nbconvert_exporter": "python",
   "pygments_lexer": "ipython3",
   "version": "3.13.2"
  }
 },
 "nbformat": 4,
 "nbformat_minor": 5
}
